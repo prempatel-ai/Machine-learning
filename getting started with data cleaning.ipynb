{
 "cells": [
  {
   "cell_type": "code",
   "execution_count": 1,
   "id": "8f47815b-12ca-44d3-8790-c8fb30ab7e9e",
   "metadata": {},
   "outputs": [],
   "source": [
    "import pandas as pd"
   ]
  },
  {
   "cell_type": "code",
   "execution_count": 5,
   "id": "8c5ae0d6-61c9-4322-8e6f-c6121f78268d",
   "metadata": {},
   "outputs": [],
   "source": [
    "games=pd.read_csv('dataset/games.csv')"
   ]
  },
  {
   "cell_type": "code",
   "execution_count": 6,
   "id": "85420b9a-2e61-4b49-b90a-b5fb7cac5e22",
   "metadata": {},
   "outputs": [
    {
     "name": "stdout",
     "output_type": "stream",
     "text": [
      "<class 'pandas.core.frame.DataFrame'>\n",
      "RangeIndex: 26651 entries, 0 to 26650\n",
      "Data columns (total 21 columns):\n",
      " #   Column            Non-Null Count  Dtype  \n",
      "---  ------            --------------  -----  \n",
      " 0   GAME_DATE_EST     26651 non-null  object \n",
      " 1   GAME_ID           26651 non-null  int64  \n",
      " 2   GAME_STATUS_TEXT  26651 non-null  object \n",
      " 3   HOME_TEAM_ID      26651 non-null  int64  \n",
      " 4   VISITOR_TEAM_ID   26651 non-null  int64  \n",
      " 5   SEASON            26651 non-null  int64  \n",
      " 6   TEAM_ID_home      26651 non-null  int64  \n",
      " 7   PTS_home          26552 non-null  float64\n",
      " 8   FG_PCT_home       26552 non-null  float64\n",
      " 9   FT_PCT_home       26552 non-null  float64\n",
      " 10  FG3_PCT_home      26552 non-null  float64\n",
      " 11  AST_home          26552 non-null  float64\n",
      " 12  REB_home          26552 non-null  float64\n",
      " 13  TEAM_ID_away      26651 non-null  int64  \n",
      " 14  PTS_away          26552 non-null  float64\n",
      " 15  FG_PCT_away       26552 non-null  float64\n",
      " 16  FT_PCT_away       26552 non-null  float64\n",
      " 17  FG3_PCT_away      26552 non-null  float64\n",
      " 18  AST_away          26552 non-null  float64\n",
      " 19  REB_away          26552 non-null  float64\n",
      " 20  HOME_TEAM_WINS    26651 non-null  int64  \n",
      "dtypes: float64(12), int64(7), object(2)\n",
      "memory usage: 4.3+ MB\n"
     ]
    }
   ],
   "source": [
    "games.info()"
   ]
  },
  {
   "cell_type": "code",
   "execution_count": null,
   "id": "9014a841-4dc6-44c5-acf9-2b79432a27a8",
   "metadata": {},
   "outputs": [],
   "source": [
    "games.head()"
   ]
  },
  {
   "cell_type": "code",
   "execution_count": null,
   "id": "fe9e1f0c-0b24-41ae-abc3-56708ca08c52",
   "metadata": {},
   "outputs": [],
   "source": [
    "details=pd.read_csv('games_details.csv')"
   ]
  },
  {
   "cell_type": "code",
   "execution_count": null,
   "id": "2e4983ac-a470-4d65-810a-424002de9fd7",
   "metadata": {
    "scrolled": true
   },
   "outputs": [],
   "source": [
    "details.info()"
   ]
  },
  {
   "cell_type": "code",
   "execution_count": null,
   "id": "a342e043-ab32-48a8-9e03-84eae4674962",
   "metadata": {},
   "outputs": [],
   "source": [
    "details.head()"
   ]
  },
  {
   "cell_type": "code",
   "execution_count": null,
   "id": "477dbb83-6c4a-4474-b02a-7066eb7a30ad",
   "metadata": {},
   "outputs": [],
   "source": [
    "player=pd.read_csv('players.csv')"
   ]
  },
  {
   "cell_type": "code",
   "execution_count": null,
   "id": "22bb6e6b-d243-4c7b-b207-1986cbe27c7f",
   "metadata": {},
   "outputs": [],
   "source": [
    "player.info()"
   ]
  },
  {
   "cell_type": "code",
   "execution_count": null,
   "id": "c2ce877f-b652-459e-bb83-df31ce1a10c8",
   "metadata": {},
   "outputs": [],
   "source": [
    "player.head()"
   ]
  },
  {
   "cell_type": "code",
   "execution_count": null,
   "id": "3b70f0b2-5a33-4433-8303-095daea974c5",
   "metadata": {},
   "outputs": [],
   "source": [
    "teams=pd.read_csv('teams.csv')"
   ]
  },
  {
   "cell_type": "code",
   "execution_count": null,
   "id": "e0ec7aa1-4a91-4e03-aecd-33369818e9f8",
   "metadata": {},
   "outputs": [],
   "source": [
    "teams.info()"
   ]
  },
  {
   "cell_type": "code",
   "execution_count": null,
   "id": "cf73f9b1-bc78-4cf9-8b61-c4e159c34b52",
   "metadata": {},
   "outputs": [],
   "source": [
    "teams.head()"
   ]
  },
  {
   "cell_type": "markdown",
   "id": "f0936063-8140-4f0a-a35a-022f4db24ff5",
   "metadata": {},
   "source": [
    "From this line i will add D.A begins\n"
   ]
  },
  {
   "cell_type": "code",
   "execution_count": null,
   "id": "e19fb81d-1777-4854-8690-59d12a4621de",
   "metadata": {},
   "outputs": [],
   "source": [
    "teams.info()"
   ]
  },
  {
   "cell_type": "code",
   "execution_count": null,
   "id": "cbfff91b-4066-4a7f-8455-9ba740ead3b4",
   "metadata": {},
   "outputs": [],
   "source": [
    "games.info()"
   ]
  },
  {
   "cell_type": "code",
   "execution_count": null,
   "id": "9b28cedd-058a-429f-8509-ba0da248d726",
   "metadata": {},
   "outputs": [],
   "source": [
    "player.info()"
   ]
  },
  {
   "cell_type": "code",
   "execution_count": null,
   "id": "5e5ec75b-3ffb-47f7-860e-5bf1bc29dd2c",
   "metadata": {},
   "outputs": [],
   "source": [
    "details.info()"
   ]
  },
  {
   "cell_type": "code",
   "execution_count": null,
   "id": "6858007e-cb21-4863-a1cb-0f0d984b5e9c",
   "metadata": {},
   "outputs": [],
   "source": [
    "print(games['GAME_ID'].nunique(), \"unique games\")\n",
    "print(len(games), \"rows in games.csv\")\n"
   ]
  },
  {
   "cell_type": "code",
   "execution_count": null,
   "id": "354f5402-6ce7-4c60-84de-29056364ee0f",
   "metadata": {},
   "outputs": [],
   "source": [
    "duplicates = games[games.duplicated(subset=['GAME_ID'])]\n",
    "print(\"Duplicate games:\", len(duplicates))\n"
   ]
  },
  {
   "cell_type": "code",
   "execution_count": null,
   "id": "565db21a-aee3-48bc-b850-4c9f4c010c9b",
   "metadata": {},
   "outputs": [],
   "source": [
    "games.isnull().sum()\n"
   ]
  },
  {
   "cell_type": "code",
   "execution_count": null,
   "id": "9ab296ec-c611-489d-a335-3172214fb4f7",
   "metadata": {},
   "outputs": [],
   "source": [
    "games.info()"
   ]
  },
  {
   "cell_type": "code",
   "execution_count": null,
   "id": "2ecebc94-9a4d-4051-9a45-d2261961b829",
   "metadata": {},
   "outputs": [],
   "source": [
    "games.head()"
   ]
  },
  {
   "cell_type": "code",
   "execution_count": null,
   "id": "d6205110-c7da-4dfc-8625-7d6910e08c5e",
   "metadata": {},
   "outputs": [],
   "source": [
    "games['GAME_DATE_EST'] = pd.to_datetime(games['GAME_DATE_EST'])"
   ]
  },
  {
   "cell_type": "code",
   "execution_count": null,
   "id": "8cd099bc-ed5e-45a1-8bd2-4c4ec1b01abc",
   "metadata": {},
   "outputs": [],
   "source": [
    "games.info()"
   ]
  },
  {
   "cell_type": "code",
   "execution_count": null,
   "id": "8c506d17-6d41-47a0-a59c-adebe8c5c65d",
   "metadata": {},
   "outputs": [],
   "source": [
    "player.info()"
   ]
  },
  {
   "cell_type": "code",
   "execution_count": null,
   "id": "72ce634a-8bcb-4dab-9f73-33fb79e5f12b",
   "metadata": {},
   "outputs": [],
   "source": [
    "details.info()"
   ]
  },
  {
   "cell_type": "code",
   "execution_count": null,
   "id": "1be103ca-76c5-4c7e-9000-f94a9bbbf318",
   "metadata": {},
   "outputs": [],
   "source": [
    "details.head()"
   ]
  },
  {
   "cell_type": "code",
   "execution_count": null,
   "id": "17fab9f4-9f8f-4b3e-a007-c3c279d0028e",
   "metadata": {},
   "outputs": [],
   "source": [
    "details\n"
   ]
  },
  {
   "cell_type": "code",
   "execution_count": null,
   "id": "dec45610-9db6-4c17-9098-4c5051920b29",
   "metadata": {},
   "outputs": [],
   "source": [
    "details['COMMENT'].isna().sum()\n"
   ]
  },
  {
   "cell_type": "code",
   "execution_count": null,
   "id": "9b17becd-53d4-4854-bacc-a2a71f6e6221",
   "metadata": {},
   "outputs": [],
   "source": [
    "details[details['COMMENT'].isna()]\n"
   ]
  },
  {
   "cell_type": "code",
   "execution_count": null,
   "id": "e78dea68-98c0-40f1-b327-73beec926705",
   "metadata": {},
   "outputs": [],
   "source": [
    "details"
   ]
  },
  {
   "cell_type": "code",
   "execution_count": null,
   "id": "027df049-4f64-4f1a-bd19-974d29c0b56b",
   "metadata": {},
   "outputs": [],
   "source": [
    "details.drop('COMMENT', axis=1, inplace=True)\n"
   ]
  },
  {
   "cell_type": "code",
   "execution_count": null,
   "id": "2f9bd92c-5be1-4c4d-91ce-d862377156f7",
   "metadata": {},
   "outputs": [],
   "source": [
    "details"
   ]
  },
  {
   "cell_type": "code",
   "execution_count": null,
   "id": "4eba6584-74e6-423a-989e-8c1c1ed84583",
   "metadata": {},
   "outputs": [],
   "source": [
    "details.info()"
   ]
  },
  {
   "cell_type": "code",
   "execution_count": null,
   "id": "72da2301-c473-4a0e-84cd-132ea831c206",
   "metadata": {},
   "outputs": [],
   "source": [
    "teams.info()"
   ]
  },
  {
   "cell_type": "code",
   "execution_count": null,
   "id": "a976f8e0-bebc-4b3a-9fb1-b165cbdd211a",
   "metadata": {},
   "outputs": [],
   "source": [
    "teams.head()"
   ]
  },
  {
   "cell_type": "code",
   "execution_count": null,
   "id": "9469c658-6acf-482f-927c-591e00558d7e",
   "metadata": {},
   "outputs": [],
   "source": [
    "teams"
   ]
  },
  {
   "cell_type": "code",
   "execution_count": null,
   "id": "4d5adbe2-90b9-4c98-adeb-7be4ce731e76",
   "metadata": {},
   "outputs": [],
   "source": [
    "teams['ARENACAPACITY'] = teams['ARENACAPACITY'].astype('int64')\n"
   ]
  },
  {
   "cell_type": "code",
   "execution_count": null,
   "id": "375c51f4-26de-4959-be90-cddd614973a9",
   "metadata": {},
   "outputs": [],
   "source": [
    "teams['ARENACAPACITY'].isna().sum()\n"
   ]
  },
  {
   "cell_type": "code",
   "execution_count": null,
   "id": "942c3d27-0c2a-4edc-b5ba-9c26ba28fba1",
   "metadata": {},
   "outputs": [],
   "source": [
    "teams['ARENACAPACITY'] = teams['ARENACAPACITY'].fillna(0).astype('int64')\n"
   ]
  },
  {
   "cell_type": "code",
   "execution_count": null,
   "id": "6390f0c9-3e7b-4aff-985b-06bd26cc0b02",
   "metadata": {},
   "outputs": [],
   "source": [
    "teams['ARENACAPACITY'].isna().sum()\n",
    "\n"
   ]
  },
  {
   "cell_type": "code",
   "execution_count": null,
   "id": "7ba58edb-d1d8-4460-a8fe-83fdfcdc3b17",
   "metadata": {},
   "outputs": [],
   "source": [
    "teams['ARENACAPACITY'] = teams['ARENACAPACITY'].astype('int64')\n"
   ]
  },
  {
   "cell_type": "code",
   "execution_count": null,
   "id": "f9621b61-7409-46c3-9a45-3b7f4d19424c",
   "metadata": {},
   "outputs": [],
   "source": [
    "teams.info()"
   ]
  },
  {
   "cell_type": "code",
   "execution_count": null,
   "id": "c3c67163-6d95-43d8-a14f-7e4e9e61147f",
   "metadata": {},
   "outputs": [],
   "source": [
    "teams\n"
   ]
  },
  {
   "cell_type": "code",
   "execution_count": null,
   "id": "01125ae0-7d69-4430-82a3-9195460607b7",
   "metadata": {},
   "outputs": [],
   "source": [
    "teams['ARENACAPACITY'] = teams['ARENACAPACITY'].replace(4, 0)\n"
   ]
  },
  {
   "cell_type": "code",
   "execution_count": null,
   "id": "d7663824-9b47-430b-bd4c-54fea188ba0f",
   "metadata": {},
   "outputs": [],
   "source": [
    "teams"
   ]
  },
  {
   "cell_type": "code",
   "execution_count": null,
   "id": "e81324c2-1530-4954-9957-ac1b25991803",
   "metadata": {},
   "outputs": [],
   "source": [
    "player.info()"
   ]
  },
  {
   "cell_type": "code",
   "execution_count": null,
   "id": "31e30ca0-a6c2-4740-ba67-0c50ca98afdb",
   "metadata": {},
   "outputs": [],
   "source": [
    "player.isnull().sum()"
   ]
  },
  {
   "cell_type": "code",
   "execution_count": null,
   "id": "d2a9a746-86a9-474f-85cd-8f15d5b58001",
   "metadata": {},
   "outputs": [],
   "source": [
    "details.isnull().sum()"
   ]
  },
  {
   "cell_type": "code",
   "execution_count": null,
   "id": "a9c55fe6-1678-4976-974f-f690d11e4f20",
   "metadata": {},
   "outputs": [],
   "source": [
    "missing_stats = details[details['MIN'].isnull()]\n",
    "print(len(missing_stats), \"rows where player did not play (no minutes).\")"
   ]
  },
  {
   "cell_type": "code",
   "execution_count": null,
   "id": "6d0d61c9-f69b-40a9-94c3-98fceafd3b24",
   "metadata": {},
   "outputs": [],
   "source": [
    "details = details[details['MIN'].notnull()]\n"
   ]
  },
  {
   "cell_type": "code",
   "execution_count": null,
   "id": "b3e0b0cf-c7b8-4f1c-9eeb-4dcf0d60e8d8",
   "metadata": {},
   "outputs": [],
   "source": [
    "details.isnull().sum()"
   ]
  },
  {
   "cell_type": "code",
   "execution_count": null,
   "id": "9ec0b6e0-a403-4de4-88f9-da331c0de9f5",
   "metadata": {},
   "outputs": [],
   "source": [
    "len(details[details['NICKNAME'].isnull()])"
   ]
  },
  {
   "cell_type": "code",
   "execution_count": null,
   "id": "1dbe2897-59f6-487b-94a6-1d494e16631f",
   "metadata": {},
   "outputs": [],
   "source": [
    "details = details[details['NICKNAME'].notnull()]\n"
   ]
  },
  {
   "cell_type": "code",
   "execution_count": null,
   "id": "3a73a9e3-37b7-49cc-826b-997050fac36a",
   "metadata": {},
   "outputs": [],
   "source": [
    "details.isnull().sum()\n"
   ]
  },
  {
   "cell_type": "code",
   "execution_count": null,
   "id": "0067fe8b-8c34-45eb-9ea0-c7a3eb715fae",
   "metadata": {},
   "outputs": [],
   "source": [
    "details=details[details['START_POSITION'].notnull()]"
   ]
  },
  {
   "cell_type": "code",
   "execution_count": null,
   "id": "7eef46bb-b34c-4ffa-9516-d07c6c9e2e91",
   "metadata": {},
   "outputs": [],
   "source": [
    "details.isnull().sum()"
   ]
  },
  {
   "cell_type": "code",
   "execution_count": null,
   "id": "2279722a-038e-4bc5-86de-6b5995a0d17a",
   "metadata": {},
   "outputs": [],
   "source": [
    "games.isnull().sum()"
   ]
  },
  {
   "cell_type": "code",
   "execution_count": null,
   "id": "a5e8ddc8-f829-464d-9d9c-e9c273f05bff",
   "metadata": {},
   "outputs": [],
   "source": [
    "games=games[games['PTS_home'].notnull()]"
   ]
  },
  {
   "cell_type": "code",
   "execution_count": null,
   "id": "28ce9c56-9129-4c32-9c64-8f6068b6d9b6",
   "metadata": {},
   "outputs": [],
   "source": [
    "games.isnull().sum()"
   ]
  },
  {
   "cell_type": "code",
   "execution_count": null,
   "id": "8d52b762-f3ca-412c-9144-9f96c36c49be",
   "metadata": {},
   "outputs": [],
   "source": [
    "player.isnull().sum()"
   ]
  },
  {
   "cell_type": "code",
   "execution_count": null,
   "id": "704cbbc9-94ae-4966-a13f-f8982d3dca4f",
   "metadata": {},
   "outputs": [],
   "source": [
    "teams.isnull().sum()"
   ]
  },
  {
   "cell_type": "code",
   "execution_count": null,
   "id": "63501f62-2b1f-40b6-a119-7b1ade84fdd7",
   "metadata": {},
   "outputs": [],
   "source": [
    "games.to_csv(\"game_details_clean.csv\", index=False)"
   ]
  },
  {
   "cell_type": "code",
   "execution_count": null,
   "id": "7dc785e5-e449-4d2d-936b-3e96b7eac66f",
   "metadata": {},
   "outputs": [],
   "source": []
  }
 ],
 "metadata": {
  "kernelspec": {
   "display_name": "Python 3 (ipykernel)",
   "language": "python",
   "name": "python3"
  },
  "language_info": {
   "codemirror_mode": {
    "name": "ipython",
    "version": 3
   },
   "file_extension": ".py",
   "mimetype": "text/x-python",
   "name": "python",
   "nbconvert_exporter": "python",
   "pygments_lexer": "ipython3",
   "version": "3.13.6"
  }
 },
 "nbformat": 4,
 "nbformat_minor": 5
}
