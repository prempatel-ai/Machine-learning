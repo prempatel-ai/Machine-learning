{
 "cells": [
  {
   "cell_type": "code",
   "execution_count": 2,
   "id": "94ddfc19-d435-44e2-9313-1a49d280ec92",
   "metadata": {},
   "outputs": [],
   "source": [
    "import numpy as np"
   ]
  },
  {
   "cell_type": "code",
   "execution_count": 3,
   "id": "814e9e93-505d-454d-b6ae-d05efd01f03e",
   "metadata": {},
   "outputs": [],
   "source": [
    "mylist=[1,4,6,5]"
   ]
  },
  {
   "cell_type": "code",
   "execution_count": 4,
   "id": "0740550f-b601-4e29-8abc-ca10fa241f0a",
   "metadata": {},
   "outputs": [
    {
     "name": "stdout",
     "output_type": "stream",
     "text": [
      "[1, 4, 6, 5]\n"
     ]
    }
   ],
   "source": [
    "print(mylist)"
   ]
  },
  {
   "cell_type": "code",
   "execution_count": 5,
   "id": "7aa6ff4e-04ae-4e0b-b704-59d5bcfb9a5a",
   "metadata": {},
   "outputs": [],
   "source": [
    "myarray=np.array(mylist)"
   ]
  },
  {
   "cell_type": "code",
   "execution_count": 6,
   "id": "cb4a0994-8ff6-4ea0-985b-e3cbec46bc61",
   "metadata": {},
   "outputs": [
    {
     "name": "stdout",
     "output_type": "stream",
     "text": [
      "(4,)\n"
     ]
    }
   ],
   "source": [
    "print(myarray.shape)"
   ]
  },
  {
   "cell_type": "code",
   "execution_count": 7,
   "id": "d39f793f-7d46-4b38-aa0d-ca5d82ab1cdf",
   "metadata": {},
   "outputs": [
    {
     "data": {
      "text/plain": [
       "(4,)"
      ]
     },
     "execution_count": 7,
     "metadata": {},
     "output_type": "execute_result"
    }
   ],
   "source": [
    "myarray.shape"
   ]
  },
  {
   "cell_type": "code",
   "execution_count": 8,
   "id": "769bc846-ae27-41c2-938e-7138fa287053",
   "metadata": {},
   "outputs": [],
   "source": [
    "newlist=[(1,2),(3,4),(4,5)]"
   ]
  },
  {
   "cell_type": "code",
   "execution_count": 9,
   "id": "63c6589e-f7bd-4f7a-9ab2-588850bafa86",
   "metadata": {},
   "outputs": [],
   "source": [
    "newarray=np.array(newlist)"
   ]
  },
  {
   "cell_type": "code",
   "execution_count": 10,
   "id": "4572ecf3-b7d7-43e8-a236-c257d54ef541",
   "metadata": {},
   "outputs": [
    {
     "data": {
      "text/plain": [
       "(3, 2)"
      ]
     },
     "execution_count": 10,
     "metadata": {},
     "output_type": "execute_result"
    }
   ],
   "source": [
    "newarray.shape"
   ]
  },
  {
   "cell_type": "code",
   "execution_count": 11,
   "id": "67563dd3-fce9-40fb-adfc-557dfb5108eb",
   "metadata": {},
   "outputs": [],
   "source": [
    "plist=[[3,5,4,1],[9,5,3,2]]"
   ]
  },
  {
   "cell_type": "code",
   "execution_count": 12,
   "id": "937de827-94d7-4284-b917-72567f6acdad",
   "metadata": {},
   "outputs": [],
   "source": [
    "parray=np.array(plist)"
   ]
  },
  {
   "cell_type": "code",
   "execution_count": 13,
   "id": "958a3287-3876-4d47-8a1d-cdfe19156c92",
   "metadata": {},
   "outputs": [
    {
     "data": {
      "text/plain": [
       "(2, 4)"
      ]
     },
     "execution_count": 13,
     "metadata": {},
     "output_type": "execute_result"
    }
   ],
   "source": [
    "parray.shape"
   ]
  },
  {
   "cell_type": "markdown",
   "id": "29853df9-7c78-47e0-8b4a-0a3d0fa2c49f",
   "metadata": {},
   "source": [
    "like pandas we use loc method to loc and see specific information for this numpy to see in specific list use  \n"
   ]
  },
  {
   "cell_type": "code",
   "execution_count": 14,
   "id": "d81239c1-78b4-4715-8c8c-1e71e7ebb076",
   "metadata": {},
   "outputs": [],
   "source": [
    "see_first_row=\"the first row is : %s\" %parray[0]"
   ]
  },
  {
   "cell_type": "code",
   "execution_count": 15,
   "id": "3769337b-459d-459c-895b-f40418fed301",
   "metadata": {},
   "outputs": [
    {
     "data": {
      "text/plain": [
       "'the first row is : [3 5 4 1]'"
      ]
     },
     "execution_count": 15,
     "metadata": {},
     "output_type": "execute_result"
    }
   ],
   "source": [
    "see_first_row"
   ]
  },
  {
   "cell_type": "code",
   "execution_count": 16,
   "id": "8462e881-4a46-4706-8345-ec172ef831f9",
   "metadata": {},
   "outputs": [],
   "source": [
    "to_see_last_row='the last row is :%s '%parray[-1]"
   ]
  },
  {
   "cell_type": "code",
   "execution_count": 17,
   "id": "9337cf25-4fbc-4454-b5f2-9f4a4c554636",
   "metadata": {},
   "outputs": [
    {
     "data": {
      "text/plain": [
       "'the last row is :[9 5 3 2] '"
      ]
     },
     "execution_count": 17,
     "metadata": {},
     "output_type": "execute_result"
    }
   ],
   "source": [
    "to_see_last_row"
   ]
  },
  {
   "cell_type": "markdown",
   "id": "74f248b5-1e9e-425a-8bac-20b6dcd795e1",
   "metadata": {},
   "source": [
    "to do an sum or product for that we use this function in numpy"
   ]
  },
  {
   "cell_type": "code",
   "execution_count": 20,
   "id": "55caa417-2e35-4cdb-82e7-bd9adbd0fc42",
   "metadata": {},
   "outputs": [],
   "source": [
    "a=np.array([2,2,2])\n",
    "b=np.array([3,3,3])\n",
    "sum=('sum:%s'%(a+b))\n",
    "product=('product:%s'%(a*b))"
   ]
  },
  {
   "cell_type": "code",
   "execution_count": 21,
   "id": "8a358e5b-31d3-4c1b-980d-f9cf784fe885",
   "metadata": {},
   "outputs": [
    {
     "data": {
      "text/plain": [
       "'sum:[5 5 5]'"
      ]
     },
     "execution_count": 21,
     "metadata": {},
     "output_type": "execute_result"
    }
   ],
   "source": [
    "sum"
   ]
  },
  {
   "cell_type": "code",
   "execution_count": 22,
   "id": "9dbff925-34c4-4f51-8011-24a4984ac4fc",
   "metadata": {},
   "outputs": [
    {
     "data": {
      "text/plain": [
       "'product:[6 6 6]'"
      ]
     },
     "execution_count": 22,
     "metadata": {},
     "output_type": "execute_result"
    }
   ],
   "source": [
    "product "
   ]
  },
  {
   "cell_type": "code",
   "execution_count": null,
   "id": "9c2ef888-bfc8-4bc7-9d8f-f535d7d55ab2",
   "metadata": {},
   "outputs": [],
   "source": []
  }
 ],
 "metadata": {
  "kernelspec": {
   "display_name": "Python 3 (ipykernel)",
   "language": "python",
   "name": "python3"
  },
  "language_info": {
   "codemirror_mode": {
    "name": "ipython",
    "version": 3
   },
   "file_extension": ".py",
   "mimetype": "text/x-python",
   "name": "python",
   "nbconvert_exporter": "python",
   "pygments_lexer": "ipython3",
   "version": "3.13.7"
  }
 },
 "nbformat": 4,
 "nbformat_minor": 5
}
