{
 "cells": [
  {
   "cell_type": "markdown",
   "id": "baf3d2b8-a87f-4522-8527-bde3b9d2e9e0",
   "metadata": {},
   "source": [
    "importing and librarys"
   ]
  },
  {
   "cell_type": "code",
   "execution_count": 1,
   "id": "fa564b86-2b0c-44ba-8f1e-c3bbc2043ab0",
   "metadata": {},
   "outputs": [],
   "source": [
    "import pandas as pd"
   ]
  },
  {
   "cell_type": "markdown",
   "id": "cc0453c5-9a94-4efa-a2ab-ba50d79ae747",
   "metadata": {},
   "source": [
    "importing an csv "
   ]
  },
  {
   "cell_type": "code",
   "execution_count": 13,
   "id": "a633a0cf-6656-4288-9403-7894520d2239",
   "metadata": {},
   "outputs": [],
   "source": [
    "ac=pd.read_csv('dataset/dataset_of_banking/account.csv')"
   ]
  },
  {
   "cell_type": "code",
   "execution_count": 14,
   "id": "d897d324-2ee4-4131-96d0-e26b5841717a",
   "metadata": {},
   "outputs": [],
   "source": [
    "tr=pd.read_csv('dataset/dataset_of_banking/trans.csv')"
   ]
  },
  {
   "cell_type": "code",
   "execution_count": 12,
   "id": "b5a747fe-b1e4-4f07-b165-9fc581c414e7",
   "metadata": {},
   "outputs": [],
   "source": [
    "dis=pd.read_csv('dataset/dataset_of_banking/district.csv')"
   ]
  },
  {
   "cell_type": "markdown",
   "id": "0c0999a3-a6b2-4ad1-9a09-770b0cbee5c5",
   "metadata": {},
   "source": [
    "Starting an Data Analysis"
   ]
  },
  {
   "cell_type": "markdown",
   "id": "acd817e1-7d01-4c75-bad4-c24d34a5e2a8",
   "metadata": {},
   "source": [
    "checking an head of each data"
   ]
  },
  {
   "cell_type": "code",
   "execution_count": 15,
   "id": "19663e4f-ead8-4838-92b5-21dd0f3d7065",
   "metadata": {},
   "outputs": [
    {
     "name": "stdout",
     "output_type": "stream",
     "text": [
      "<class 'pandas.core.frame.DataFrame'>\n",
      "RangeIndex: 4500 entries, 0 to 4499\n",
      "Data columns (total 1 columns):\n",
      " #   Column                                       Non-Null Count  Dtype \n",
      "---  ------                                       --------------  ----- \n",
      " 0   account_id;\"district_id\";\"frequency\";\"date\"  4500 non-null   object\n",
      "dtypes: object(1)\n",
      "memory usage: 35.3+ KB\n"
     ]
    }
   ],
   "source": [
    "ac.info()"
   ]
  },
  {
   "cell_type": "code",
   "execution_count": 16,
   "id": "d09197b7-be7b-446c-b533-81de2080111c",
   "metadata": {},
   "outputs": [
    {
     "name": "stdout",
     "output_type": "stream",
     "text": [
      "<class 'pandas.core.frame.DataFrame'>\n",
      "RangeIndex: 1056320 entries, 0 to 1056319\n",
      "Data columns (total 1 columns):\n",
      " #   Column                                                                                          Non-Null Count    Dtype \n",
      "---  ------                                                                                          --------------    ----- \n",
      " 0   trans_id;\"account_id\";\"date\";\"type\";\"operation\";\"amount\";\"balance\";\"k_symbol\";\"bank\";\"account\"  1056320 non-null  object\n",
      "dtypes: object(1)\n",
      "memory usage: 8.1+ MB\n"
     ]
    }
   ],
   "source": [
    "tr.info()"
   ]
  },
  {
   "cell_type": "code",
   "execution_count": 17,
   "id": "5335d88e-42b0-4740-9d95-cb8755e95512",
   "metadata": {},
   "outputs": [
    {
     "name": "stdout",
     "output_type": "stream",
     "text": [
      "<class 'pandas.core.frame.DataFrame'>\n",
      "RangeIndex: 77 entries, 0 to 76\n",
      "Data columns (total 1 columns):\n",
      " #   Column                                                  Non-Null Count  Dtype \n",
      "---  ------                                                  --------------  ----- \n",
      " 0   A1;A2;A3;A4;A5;A6;A7;A8;A9;A10;A11;A12;A13;A14;A15;A16  77 non-null     object\n",
      "dtypes: object(1)\n",
      "memory usage: 748.0+ bytes\n"
     ]
    }
   ],
   "source": [
    "dis.info()"
   ]
  },
  {
   "cell_type": "code",
   "execution_count": 18,
   "id": "15744d80-b291-44b1-b121-32fbe4eaa5aa",
   "metadata": {},
   "outputs": [
    {
     "data": {
      "text/html": [
       "<div>\n",
       "<style scoped>\n",
       "    .dataframe tbody tr th:only-of-type {\n",
       "        vertical-align: middle;\n",
       "    }\n",
       "\n",
       "    .dataframe tbody tr th {\n",
       "        vertical-align: top;\n",
       "    }\n",
       "\n",
       "    .dataframe thead th {\n",
       "        text-align: right;\n",
       "    }\n",
       "</style>\n",
       "<table border=\"1\" class=\"dataframe\">\n",
       "  <thead>\n",
       "    <tr style=\"text-align: right;\">\n",
       "      <th></th>\n",
       "      <th>account_id;\"district_id\";\"frequency\";\"date\"</th>\n",
       "    </tr>\n",
       "  </thead>\n",
       "  <tbody>\n",
       "    <tr>\n",
       "      <th>0</th>\n",
       "      <td>576;55;\"POPLATEK MESICNE\";930101</td>\n",
       "    </tr>\n",
       "    <tr>\n",
       "      <th>1</th>\n",
       "      <td>3818;74;\"POPLATEK MESICNE\";930101</td>\n",
       "    </tr>\n",
       "    <tr>\n",
       "      <th>2</th>\n",
       "      <td>704;55;\"POPLATEK MESICNE\";930101</td>\n",
       "    </tr>\n",
       "    <tr>\n",
       "      <th>3</th>\n",
       "      <td>2378;16;\"POPLATEK MESICNE\";930101</td>\n",
       "    </tr>\n",
       "    <tr>\n",
       "      <th>4</th>\n",
       "      <td>2632;24;\"POPLATEK MESICNE\";930102</td>\n",
       "    </tr>\n",
       "  </tbody>\n",
       "</table>\n",
       "</div>"
      ],
      "text/plain": [
       "  account_id;\"district_id\";\"frequency\";\"date\"\n",
       "0            576;55;\"POPLATEK MESICNE\";930101\n",
       "1           3818;74;\"POPLATEK MESICNE\";930101\n",
       "2            704;55;\"POPLATEK MESICNE\";930101\n",
       "3           2378;16;\"POPLATEK MESICNE\";930101\n",
       "4           2632;24;\"POPLATEK MESICNE\";930102"
      ]
     },
     "execution_count": 18,
     "metadata": {},
     "output_type": "execute_result"
    }
   ],
   "source": [
    "ac.head()"
   ]
  },
  {
   "cell_type": "code",
   "execution_count": 22,
   "id": "c365b547-ee3b-4397-a3ef-c3702198f65b",
   "metadata": {},
   "outputs": [
    {
     "data": {
      "text/plain": [
       "account_id;\"district_id\";\"frequency\";\"date\"    0\n",
       "dtype: int64"
      ]
     },
     "execution_count": 22,
     "metadata": {},
     "output_type": "execute_result"
    }
   ],
   "source": [
    "ac.isnull().sum()"
   ]
  },
  {
   "cell_type": "code",
   "execution_count": null,
   "id": "b516e5cf-7364-4c89-921a-e77a6f33de84",
   "metadata": {},
   "outputs": [],
   "source": []
  }
 ],
 "metadata": {
  "kernelspec": {
   "display_name": "Python 3 (ipykernel)",
   "language": "python",
   "name": "python3"
  },
  "language_info": {
   "codemirror_mode": {
    "name": "ipython",
    "version": 3
   },
   "file_extension": ".py",
   "mimetype": "text/x-python",
   "name": "python",
   "nbconvert_exporter": "python",
   "pygments_lexer": "ipython3",
   "version": "3.13.6"
  }
 },
 "nbformat": 4,
 "nbformat_minor": 5
}
