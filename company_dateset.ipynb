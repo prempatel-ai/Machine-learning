{
 "cells": [
  {
   "cell_type": "code",
   "execution_count": 1,
   "id": "411d9cb9-7344-43e5-a720-0873494104e5",
   "metadata": {},
   "outputs": [],
   "source": [
    "import pandas as pd\n"
   ]
  },
  {
   "cell_type": "code",
   "execution_count": 2,
   "id": "c0aa3506-8c49-4d70-a4f6-a79b8e6bde5e",
   "metadata": {},
   "outputs": [],
   "source": [
    "com=pd.read_csv('dataset/company - sheet1.csv')"
   ]
  },
  {
   "cell_type": "code",
   "execution_count": 3,
   "id": "8f3094de-aa0f-4647-bbbe-f010bb7491ac",
   "metadata": {},
   "outputs": [
    {
     "data": {
      "text/html": [
       "<div>\n",
       "<style scoped>\n",
       "    .dataframe tbody tr th:only-of-type {\n",
       "        vertical-align: middle;\n",
       "    }\n",
       "\n",
       "    .dataframe tbody tr th {\n",
       "        vertical-align: top;\n",
       "    }\n",
       "\n",
       "    .dataframe thead th {\n",
       "        text-align: right;\n",
       "    }\n",
       "</style>\n",
       "<table border=\"1\" class=\"dataframe\">\n",
       "  <thead>\n",
       "    <tr style=\"text-align: right;\">\n",
       "      <th></th>\n",
       "      <th>serial number</th>\n",
       "      <th>Company Name</th>\n",
       "      <th>Segment</th>\n",
       "      <th>Contact Number</th>\n",
       "      <th>email id</th>\n",
       "    </tr>\n",
       "  </thead>\n",
       "  <tbody>\n",
       "    <tr>\n",
       "      <th>0</th>\n",
       "      <td>NaN</td>\n",
       "      <td>Pharacy Companies</td>\n",
       "      <td>NaN</td>\n",
       "      <td>NaN</td>\n",
       "      <td>NaN</td>\n",
       "    </tr>\n",
       "    <tr>\n",
       "      <th>1</th>\n",
       "      <td>1.0</td>\n",
       "      <td>Ace Technopack LLP</td>\n",
       "      <td>Pharmacy/Life Sciences</td>\n",
       "      <td>7942556199</td>\n",
       "      <td>ace@acetechnologiesgroup.com.</td>\n",
       "    </tr>\n",
       "    <tr>\n",
       "      <th>2</th>\n",
       "      <td>3.0</td>\n",
       "      <td>Adept Tableting</td>\n",
       "      <td>Pharmacy/Life Sciences</td>\n",
       "      <td>9346619575</td>\n",
       "      <td>info@adeptexport.com</td>\n",
       "    </tr>\n",
       "    <tr>\n",
       "      <th>3</th>\n",
       "      <td>4.0</td>\n",
       "      <td>Ajni Industries Pvt. Ltd.</td>\n",
       "      <td>Pharmacy/Life Sciences</td>\n",
       "      <td>2652774855</td>\n",
       "      <td>dipusharma@ajni.co.in</td>\n",
       "    </tr>\n",
       "    <tr>\n",
       "      <th>4</th>\n",
       "      <td>5.0</td>\n",
       "      <td>Allyone Environmental Technologies India Pvt. ...</td>\n",
       "      <td>Pharmacy/Life Sciences</td>\n",
       "      <td>2551230061</td>\n",
       "      <td>enquiry@allone.co.in</td>\n",
       "    </tr>\n",
       "  </tbody>\n",
       "</table>\n",
       "</div>"
      ],
      "text/plain": [
       "   serial number                                       Company Name  \\\n",
       "0            NaN                                  Pharacy Companies   \n",
       "1            1.0                                 Ace Technopack LLP   \n",
       "2            3.0                                    Adept Tableting   \n",
       "3            4.0                          Ajni Industries Pvt. Ltd.   \n",
       "4            5.0  Allyone Environmental Technologies India Pvt. ...   \n",
       "\n",
       "                  Segment Contact Number                        email id  \n",
       "0                     NaN            NaN                             NaN  \n",
       "1  Pharmacy/Life Sciences     7942556199  ace@acetechnologiesgroup.com.   \n",
       "2  Pharmacy/Life Sciences     9346619575            info@adeptexport.com  \n",
       "3  Pharmacy/Life Sciences     2652774855           dipusharma@ajni.co.in  \n",
       "4  Pharmacy/Life Sciences     2551230061            enquiry@allone.co.in  "
      ]
     },
     "execution_count": 3,
     "metadata": {},
     "output_type": "execute_result"
    }
   ],
   "source": [
    "com.head()"
   ]
  },
  {
   "cell_type": "code",
   "execution_count": 4,
   "id": "e2fc4a9d-2c87-4770-947d-b9b464daa948",
   "metadata": {},
   "outputs": [
    {
     "data": {
      "text/plain": [
       "serial number       6\n",
       "Company Name        0\n",
       "Segment             7\n",
       "Contact Number    103\n",
       "email id          125\n",
       "dtype: int64"
      ]
     },
     "execution_count": 4,
     "metadata": {},
     "output_type": "execute_result"
    }
   ],
   "source": [
    "com.isnull().sum()"
   ]
  },
  {
   "cell_type": "code",
   "execution_count": 7,
   "id": "292727a2-4286-4196-b757-83c865cc002a",
   "metadata": {},
   "outputs": [
    {
     "data": {
      "text/plain": [
       "Index(['serial number', 'Company Name', 'Segment', 'Contact Number',\n",
       "       'email id'],\n",
       "      dtype='object')"
      ]
     },
     "execution_count": 7,
     "metadata": {},
     "output_type": "execute_result"
    }
   ],
   "source": [
    "com.columns"
   ]
  },
  {
   "cell_type": "code",
   "execution_count": 9,
   "id": "e8193750-7b6f-4ee9-9fdf-6654ad952937",
   "metadata": {},
   "outputs": [],
   "source": [
    "is_all_same = com['Contact Number'].nunique() == 1"
   ]
  },
  {
   "cell_type": "code",
   "execution_count": 10,
   "id": "4f2f9394-34b5-4396-b931-156792e427aa",
   "metadata": {},
   "outputs": [
    {
     "data": {
      "text/plain": [
       "False"
      ]
     },
     "execution_count": 10,
     "metadata": {},
     "output_type": "execute_result"
    }
   ],
   "source": [
    "is_all_same"
   ]
  },
  {
   "cell_type": "code",
   "execution_count": 11,
   "id": "ff9be309-4093-4a3b-90b5-3c75aa2200d4",
   "metadata": {},
   "outputs": [
    {
     "name": "stdout",
     "output_type": "stream",
     "text": [
      "Unique dates in dataset: [nan '7942556199' '9346619575' '2652774855' '2551230061' '9824228881'\n",
      " '9978600978' '8655852955' '9974259469' '9879111970' '8624858551'\n",
      " '1145508664' '9265541531' '7940055868' '9820962795' '9426757975'\n",
      " '9650375541' '7575808268' '(20)67151010' '6354913760' '2266975447'\n",
      " '9904405400' '7935208301' '2240413131' '99608969824' '9825033305'\n",
      " '9979699955' '8045133452' '9724066338' '9821053265' '9825331801'\n",
      " '98677 24577' '9699824514' '7201000893' '8897845554' '8618 31161'\n",
      " '7949238192' '79 4030 0727' '9653384812' '79-2658 8565' '7925733411'\n",
      " '(2717)417566' '9687341157' '9820509630' '9967717084' '8140408833'\n",
      " '8980029682' '2717639888' '9879325171' '7940194030' '82918 21223'\n",
      " '22 2850 2878' '123 456 7890' '95120 07086' '97234 44495' '22 4971 9996'\n",
      " '81081 14949' '99539 94180' '80454 76011' '98256 34508' '99798 42207'\n",
      " '94267 57975' '94088 03137' '98115 99922' '88005 58656' '80458 14460'\n",
      " '98250 79430' '75672 19422' '98795 45216' '72650 88833'\n",
      " '22-28940600 / 700' '98982 45695' '97277 38001' '90336 10133'\n",
      " '9805508770' '9879003546' '9820088373' '22 2871 4444' '22 69607000'\n",
      " '98253 58024' '84258 40212' '22 2880 9636' '7016881170' '73 9788 9788'\n",
      " '9870448882' '820 080 0100' '22 26836452' '22-46081434' '22-40972000'\n",
      " '99704 69023' '84460 41696' '8108105566' '9372080617' '85111 20446'\n",
      " '020-67482800' '7043354300' '80-23464645' '9871410959' '22-40433433'\n",
      " '79 40013100' '79 2644 5155' '74283 14888' '76006 67613' '89052 49536'\n",
      " '73839 45966' '93161 06451' '78787 54780' '96185 95672' '99722 58090'\n",
      " '9820270187' '98986 59696' '70390 47042' '2245222115' '9870610432'\n",
      " '7925840686' '11 4646 5020' '86‑189‑1632‑0083' '49725039' '22 2897 8725'\n",
      " '79 2646 6952' '22 2807 0500' '99241 08843' '93275 92055' '88263 52597'\n",
      " '90048 38444' '731 404 3825' '6357148481' '9879204809' '7674889007'\n",
      " '9177631526' '8045814751' '9913355008' '7354654474' '9979099501'\n",
      " '8048987665' '9841818179' '7760879816' '9099622833' '9081813490'\n",
      " '9501316889' '(508)230.9445' '9320737646' '7940394785' '7925622434'\n",
      " '8046046013' '9833318254' '7926651002' '2269231222' '8018039693'\n",
      " '9898565705' '9825197937' '8104585903' '7888077011' '2228598231'\n",
      " '2228599065' '2065296369' '8048610101' '8043835410' '(11)23353353'\n",
      " '617157700' '9033017301' '4448679435' '9699658469' '9975460457'\n",
      " '8044566912' '18005727963' '9825505344' '8793001058' '9459079599'\n",
      " '8045478718' '9425059249' '7976447382' ' 98253 17702' '84460 53761'\n",
      " '1800-419-9661' '79 2688 3000' ' 98988 50120' ' 99987 55555'\n",
      " ' 80 3726 6888' ' 77780 92462' '79-66309999' '98331 02077' '81408 14449'\n",
      " '81287 05212' '99099 93613' '80 4580 1289' '22 6261 1900' ' 97250 02284'\n",
      " ' 97277 19344' ' 89804 76636' ' 1800 267 7555   ' ' 91111 00862\\r\\n'\n",
      " '8048213338' '98250 73200' '22.6689.2400' '83693 24190' '99006 74407'\n",
      " '90999 80898' '88794 21343' '93282 12251' '98110 17858' '99740 42150'\n",
      " '20 2592 0005' '22-2552 6100' '99961 52456' '0251-2870699' '88793 0481'\n",
      " '79 2965 6678' '73837 20403' 'sss' '8048609656' '2667 615800'\n",
      " '87330 05449' '8 9292 6300' '22 66362775' '02752-241479' '80-41281606'\n",
      " '84240 10203' '92278 99943' '9408225739' '95278 90446' '98250 14048'\n",
      " '89391 51169' '90045 66452' '80458 16980' '22 69999 047' '97243 23586'\n",
      " '98258 42966' '98255 99415\\n98258 29875' '9924352760' '70459 18955'\n",
      " '9825523201' '9999012080' '8045814905' '8128809787' '9067166212'\n",
      " '8045815027' '9320688254' '95104 35319\\n79 2979 4041\\n76000 14481'\n",
      " '9978642229' ' 90990 33849' '7926583380/90' '7942535297' '8048963410'\n",
      " '9638797977' '972 447 8488' ' +91\\u202f88662\\u202f12422  \\u202f'\n",
      " '91\\u202f9898‑8181‑29' '91\\u202f84603\\u202f36927'\n",
      " '91\\u202f22\\u202f2431\\u202f6604'\n",
      " '91‑22‑2764\\u202f9201 ,91‑99303\\u202f59880'\n",
      " '91‑93215\\u202f38212,91‑93231\\u202f39797' '75750 20229' '9377236573'\n",
      " '99925 12712' '91‑909‑909\\u202f2083,91‑9879\\u202f323\\u202f323'\n",
      " '011‑2701 1448' '70182\\u202f56703' '88750 54444' '80‑26742928'\n",
      " '79 4050 0100' '  79032 86565' '91\\u202f8875054444'\n",
      " '91\\u202f80719\\u202f30473' '8045800775' '93218 81791' '99301 05077'\n",
      " '98200 68141' '97277 57943' '99099 78048' '9152233449' '99305 07777'\n",
      " '98245 10383' ' 80458 16268' '099252 20686' '792‑658‑2705' '9840017556'\n",
      " '124-4299376' '93752 83441' '6359522255' '7874224445' '8104657233'\n",
      " '98983 21283' '261 2490224' '88505 30870' '9676546655' '982-588-7700'\n",
      " '02764-662626' '79 6617 0186']\n"
     ]
    }
   ],
   "source": [
    "unique_dates = com['Contact Number'].unique()\n",
    "print(\"Unique dates in dataset:\", unique_dates)"
   ]
  },
  {
   "cell_type": "code",
   "execution_count": null,
   "id": "3130f87e-b21a-4389-950a-3c61a5ca63bb",
   "metadata": {},
   "outputs": [],
   "source": []
  }
 ],
 "metadata": {
  "kernelspec": {
   "display_name": "Python 3 (ipykernel)",
   "language": "python",
   "name": "python3"
  },
  "language_info": {
   "codemirror_mode": {
    "name": "ipython",
    "version": 3
   },
   "file_extension": ".py",
   "mimetype": "text/x-python",
   "name": "python",
   "nbconvert_exporter": "python",
   "pygments_lexer": "ipython3",
   "version": "3.13.6"
  }
 },
 "nbformat": 4,
 "nbformat_minor": 5
}
